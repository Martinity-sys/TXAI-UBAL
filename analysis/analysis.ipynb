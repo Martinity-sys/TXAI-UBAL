{
 "cells": [
  {
   "cell_type": "markdown",
   "metadata": {},
   "source": [
    "# Active Learning using Uncertainty Quantification Data Analysis"
   ]
  },
  {
   "cell_type": "code",
   "execution_count": 1,
   "metadata": {
    "ExecuteTime": {
     "end_time": "2024-02-02T13:56:12.728929300Z",
     "start_time": "2024-02-02T13:56:12.667927100Z"
    }
   },
   "outputs": [],
   "source": [
    "import numpy as np\n",
    "import matplotlib.pyplot as plt\n",
    "import pandas as pd\n",
    "%matplotlib inline"
   ]
  },
  {
   "cell_type": "code",
   "execution_count": null,
   "metadata": {
    "ExecuteTime": {
     "end_time": "2024-02-02T13:56:12.795927800Z",
     "start_time": "2024-02-02T13:56:12.703927600Z"
    }
   },
   "outputs": [],
   "source": [
    "# Set Parameters\n",
    "N_RUNS = 10\n",
    "INIT_SIZE = 40\n",
    "ACQ_SIZE = 40\n",
    "ACQ_MAX = 2000\n",
    "\n",
    "N_STEPS = np.round((ACQ_MAX - INIT_SIZE) / ACQ_SIZE)\n",
    "\n",
    "# Load data and subset to equal size based on minimum file\n",
    "MCD_data = pd.read_csv('../data/dataMCD.csv')\n",
    "ENS_data = pd.read_csv('../data/dataENS.csv')\n",
    "# TODO add dropconnect + random"
   ]
  },
  {
   "cell_type": "markdown",
   "metadata": {},
   "source": [
    "## Average loss over time"
   ]
  },
  {
   "cell_type": "code",
   "execution_count": null,
   "metadata": {
    "ExecuteTime": {
     "end_time": "2024-02-02T13:56:12.796929400Z",
     "start_time": "2024-02-02T13:56:12.763926100Z"
    }
   },
   "outputs": [],
   "source": [
    "def avg_over_runs (data, col_name):\n",
    "    \"\"\"\n",
    "    Calculates an average over a number of runs of the given column in the given dataframe\n",
    "    :param data: dataframe containing data to average\n",
    "    :param col_name: the column which contains the data to average\n",
    "    \"\"\"\n",
    "    res = [0 for _ in range(N_STEPS)]\n",
    "\n",
    "    for i in range(N_RUNS):\n",
    "        curr_rewards = data.loc[data['run'] == i][col_name].values\n",
    "\n",
    "        for j in range(N_STEPS):\n",
    "            res[j] += curr_rewards[j]\n",
    "\n",
    "    res = [x/N_RUNS for x in res]\n",
    "\n",
    "    return pd.DataFrame(res)"
   ]
  },
  {
   "cell_type": "code",
   "execution_count": null,
   "metadata": {
    "ExecuteTime": {
     "end_time": "2024-02-02T13:56:12.853920800Z",
     "start_time": "2024-02-02T13:56:12.778928500Z"
    }
   },
   "outputs": [],
   "source": [
    "# calculate the average reward over runs for each agent type\n",
    "avg_loss_MCD = avg_over_runs(MCD_data, 'loss')\n",
    "avg_loss_ENS = avg_over_runs(ENS_data, 'loss')\n",
    "#TODO add dropconnect + random"
   ]
  },
  {
   "cell_type": "code",
   "execution_count": null,
   "metadata": {
    "ExecuteTime": {
     "end_time": "2024-02-02T13:56:34.750923600Z",
     "start_time": "2024-02-02T13:56:34.442923400Z"
    },
    "collapsed": false
   },
   "outputs": [],
   "source": [
    "# plot the average loss over time, including the standard deviation\n",
    "# ref: https://stackoverflow.com/questions/70351809/python-calculate-confidence-interval-for-rolling-average-of-dataframe-entries\n",
    "\n",
    "WS = 10\n",
    "Z = 1.96\n",
    "\n",
    "x_range = [i for i in range(N_STEPS)]\n",
    "\n",
    "avg_loss_MCD = pd.DataFrame(avg_loss_MCD)\n",
    "avg_loss_ENS = pd.DataFrame(avg_loss_ENS)\n",
    "#TODO add dropconnect + random\n",
    "\n",
    "movMeanMCD = avg_loss_MCD.rolling(window=WS, center=True, min_periods=1).mean().values.ravel()\n",
    "movStdMCD = avg_loss_MCD.rolling(window=WS, center=True, min_periods=1).std().values.ravel()\n",
    "confIntMCD = Z * avg_loss_MCD / np.sqrt(WS)\n",
    "\n",
    "movMeanENS = avg_loss_ENS.rolling(window=WS, center=True, min_periods=1).mean().values.ravel()\n",
    "movStdENS = avg_loss_ENS.rolling(window=WS, center=True, min_periods=1).std().values.ravel()\n",
    "confIntENS = Z * avg_loss_ENS / np.sqrt(WS)\n",
    "\n",
    "#TODO add dropconnect + random\n",
    "\n",
    "\n",
    "plt.figure(figsize=(12,5))\n",
    "plt.plot(movMeanMCD, label='MCDropout', color='y')\n",
    "plt.fill_between(x_range, movMeanMCD - confIntMCD, movMeanMCD + confIntMCD,\n",
    "                 color='y', alpha=.1, label='MCD 95%')\n",
    "plt.plot(movMeanENS, label='ENS', color='r')\n",
    "plt.fill_between(x_range, movMeanENS - confIntENS, movMeanENS + confIntENS,\n",
    "                 color='r', alpha=.1, label='ENS 95%')\n",
    "#TODO add dropconnect + random\n",
    "\n",
    "plt.title('Average Loss over time')\n",
    "plt.ylabel('Average Loss')\n",
    "plt.xlabel('step')\n",
    "plt.legend()\n",
    "plt.show()"
   ]
  },
  {
   "cell_type": "code",
   "execution_count": null,
   "metadata": {
    "ExecuteTime": {
     "end_time": "2024-02-02T13:56:13.888927200Z",
     "start_time": "2024-02-02T13:56:13.871922600Z"
    },
    "collapsed": false
   },
   "outputs": [],
   "source": [
    "print(\"Mean and Std. Deviation of Average Loss over Time:\")\n",
    "print(f'RAND {np.mean(avg_loss_MCD)} ({np.std(avg_loss_MCD.values)})')\n",
    "print(f'LIN {np.mean(avg_loss_MCD)} ({np.std(avg_loss_MCD.values)})')\n",
    "print(f'NN {np.mean(avg_loss_MCD)} ({np.std(avg_loss_MCD.values)})')"
   ]
  },
  {
   "cell_type": "markdown",
   "metadata": {},
   "source": [
    "# TO DO:\n",
    "- add average accuracy over time \n",
    "\n",
    "- Check if we want to stick with the rolling average window or do that differently"
   ]
  }
 ],
 "metadata": {
  "kernelspec": {
   "display_name": "base",
   "language": "python",
   "name": "python3"
  },
  "language_info": {
   "codemirror_mode": {
    "name": "ipython",
    "version": 3
   },
   "file_extension": ".py",
   "mimetype": "text/x-python",
   "name": "python",
   "nbconvert_exporter": "python",
   "pygments_lexer": "ipython3",
   "version": "3.11.5"
  }
 },
 "nbformat": 4,
 "nbformat_minor": 2
}
