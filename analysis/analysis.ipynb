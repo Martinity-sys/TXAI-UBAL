{
 "cells": [
  {
   "cell_type": "markdown",
   "metadata": {},
   "source": [
    "# Active Learning using Uncertainty Quantification Data Analysis"
   ]
  },
  {
   "cell_type": "code",
   "execution_count": 1,
   "metadata": {
    "ExecuteTime": {
     "end_time": "2024-02-02T13:56:12.728929300Z",
     "start_time": "2024-02-02T13:56:12.667927100Z"
    }
   },
   "outputs": [],
   "source": [
    "import numpy as np\n",
    "import matplotlib.pyplot as plt\n",
    "import pandas as pd\n",
    "%matplotlib inline"
   ]
  },
  {
   "cell_type": "code",
   "execution_count": null,
   "metadata": {
    "ExecuteTime": {
     "end_time": "2024-02-02T13:56:12.795927800Z",
     "start_time": "2024-02-02T13:56:12.703927600Z"
    }
   },
   "outputs": [],
   "source": [
    "# Set Parameters\n",
    "N_RUNS = 10\n",
    "INIT_SIZE = 40\n",
    "ACQ_SIZE = 40\n",
    "ACQ_MAX = 2000\n",
    "\n",
    "N_STEPS = np.round((ACQ_MAX - INIT_SIZE) / ACQ_SIZE)\n",
    "\n",
    "# Load data and subset to equal size based on minimum file\n",
    "MCD_data = pd.read_csv('../data/dataMCD.csv')\n",
    "ENS_data = pd.read_csv('../data/dataENS.csv')\n",
    "MCC_data = pd.read_csv('../data/dataMCConnect.csv')\n",
    "RAND_data = pd.read_csv('../data/dataRAND.csv')"
   ]
  },
  {
   "cell_type": "markdown",
   "metadata": {},
   "source": [
    "## Average loss over time"
   ]
  },
  {
   "cell_type": "code",
   "execution_count": null,
   "metadata": {
    "ExecuteTime": {
     "end_time": "2024-02-02T13:56:12.796929400Z",
     "start_time": "2024-02-02T13:56:12.763926100Z"
    }
   },
   "outputs": [],
   "source": [
    "def avg_over_runs (data, col_name):\n",
    "    \"\"\"\n",
    "    Calculates an average over a number of runs of the given column in the given dataframe\n",
    "    :param data: dataframe containing data to average\n",
    "    :param col_name: the column which contains the data to average\n",
    "    \"\"\"\n",
    "    res = [0 for _ in range(N_STEPS)]\n",
    "\n",
    "    for i in range(N_RUNS):\n",
    "        curr_rewards = data.loc[data['run'] == i][col_name].values\n",
    "\n",
    "        for j in range(N_STEPS):\n",
    "            res[j] += curr_rewards[j]\n",
    "\n",
    "    res = [x/N_RUNS for x in res]\n",
    "\n",
    "    return pd.DataFrame(res)"
   ]
  },
  {
   "cell_type": "code",
   "execution_count": null,
   "metadata": {
    "ExecuteTime": {
     "end_time": "2024-02-02T13:56:12.853920800Z",
     "start_time": "2024-02-02T13:56:12.778928500Z"
    }
   },
   "outputs": [],
   "source": [
    "# calculate the average reward over runs for each agent type\n",
    "avg_loss_MCD = avg_over_runs(MCD_data, 'loss')\n",
    "avg_loss_ENS = avg_over_runs(ENS_data, 'loss')\n",
    "avg_loss_MCC = avg_over_runs(MCC_data, 'loss')\n",
    "avg_loss_RAND = avg_over_runs(RAND_data, 'loss')"
   ]
  },
  {
   "cell_type": "code",
   "execution_count": null,
   "metadata": {
    "ExecuteTime": {
     "end_time": "2024-02-02T13:56:34.750923600Z",
     "start_time": "2024-02-02T13:56:34.442923400Z"
    },
    "collapsed": false
   },
   "outputs": [],
   "source": [
    "# plot the average loss over time, including the standard deviation\n",
    "# ref: https://stackoverflow.com/questions/70351809/python-calculate-confidence-interval-for-rolling-average-of-dataframe-entries\n",
    "\n",
    "WS = 10\n",
    "Z = 1.96\n",
    "\n",
    "x_range = np.array([i for i in range(N_STEPS)])\n",
    "x_range = 40 * x_range\n",
    "\n",
    "avg_loss_MCD = pd.DataFrame(avg_loss_MCD)\n",
    "avg_loss_ENS = pd.DataFrame(avg_loss_ENS)\n",
    "avg_loss_MCC = pd.DataFrame(avg_loss_MCC)\n",
    "avg_loss_RAND = pd.DataFrame(avg_loss_RAND)\n",
    "\n",
    "movMeanMCD = avg_loss_MCD.rolling(window=WS, center=True, min_periods=1).mean().values.ravel()\n",
    "movStdMCD = avg_loss_MCD.rolling(window=WS, center=True, min_periods=1).std().values.ravel()\n",
    "confIntMCD = Z * avg_loss_MCD / np.sqrt(WS)\n",
    "\n",
    "movMeanENS = avg_loss_ENS.rolling(window=WS, center=True, min_periods=1).mean().values.ravel()\n",
    "movStdENS = avg_loss_ENS.rolling(window=WS, center=True, min_periods=1).std().values.ravel()\n",
    "confIntENS = Z * avg_loss_ENS / np.sqrt(WS)\n",
    "\n",
    "movMeanMCC = avg_loss_MCC.rolling(window=WS, center=True, min_periods=1).mean().values.ravel()\n",
    "movStdMCC = avg_loss_MCC.rolling(window=WS, center=True, min_periods=1).std().values.ravel()\n",
    "confIntMCC = Z * avg_loss_MCC / np.sqrt(WS)\n",
    "\n",
    "movMeanRAND = avg_loss_RAND.rolling(window=WS, center=True, min_periods=1).mean().values.ravel()\n",
    "movStdRAND = avg_loss_RAND.rolling(window=WS, center=True, min_periods=1).std().values.ravel()\n",
    "confIntRAND = Z * avg_loss_RAND / np.sqrt(WS)\n",
    "\n",
    "\n",
    "plt.figure(figsize=(12,5))\n",
    "plt.plot(movMeanMCD, label='MCDropout', color='y')\n",
    "plt.fill_between(x_range, movMeanMCD - confIntMCD, movMeanMCD + confIntMCD,\n",
    "                 color='y', alpha=.1, label='MCD 95%')\n",
    "\n",
    "plt.plot(movMeanENS, label='ENS', color='r')\n",
    "plt.fill_between(x_range, movMeanENS - confIntENS, movMeanENS + confIntENS,\n",
    "                 color='r', alpha=.1, label='ENS 95%')\n",
    "\n",
    "plt.plot(movMeanMCC, label='MCC', color='b')\n",
    "plt.fill_between(x_range, movMeanMCC - confIntMCC, movMeanMCC + confIntMCC,\n",
    "                 color='b', alpha=.1, label='MCC 95%')\n",
    "\n",
    "plt.plot(movMeanRAND, label='RAND', color='g')\n",
    "plt.fill_between(x_range, movMeanRAND - confIntRAND, movMeanRAND + confIntRAND,\n",
    "                 color='g', alpha=.1, label='RAND 95%')\n",
    "\n",
    "plt.title('Average Loss over time')\n",
    "plt.ylabel('Average Loss')\n",
    "plt.xlabel('Training Set Size')\n",
    "plt.legend()\n",
    "plt.show()"
   ]
  },
  {
   "cell_type": "code",
   "execution_count": null,
   "metadata": {
    "ExecuteTime": {
     "end_time": "2024-02-02T13:56:13.888927200Z",
     "start_time": "2024-02-02T13:56:13.871922600Z"
    },
    "collapsed": false
   },
   "outputs": [],
   "source": [
    "print(\"Mean and Std. Deviation of Average Loss over Time:\")\n",
    "print(f'MCD {np.mean(avg_loss_MCD)} ({np.std(avg_loss_MCD.values)})')\n",
    "print(f'ENS {np.mean(avg_loss_ENS)} ({np.std(avg_loss_ENS.values)})')\n",
    "print(f'MCC {np.mean(avg_loss_MCC)} ({np.std(avg_loss_MCC.values)})')\n",
    "print(f'RAND {np.mean(avg_loss_RAND)} ({np.std(avg_loss_RAND.values)})')"
   ]
  },
  {
   "cell_type": "markdown",
   "metadata": {},
   "source": [
    "## Average accuracy over time"
   ]
  },
  {
   "cell_type": "code",
   "execution_count": null,
   "metadata": {},
   "outputs": [],
   "source": [
    "# calculate the average reward over runs for each agent type\n",
    "avg_accuracy_MCD = avg_over_runs(MCD_data, 'accuracy')\n",
    "avg_accuracy_ENS = avg_over_runs(ENS_data, 'accuracy')\n",
    "avg_accuracy_MCC = avg_over_runs(MCC_data, 'accuracy')\n",
    "avg_accuracy_RAND = avg_over_runs(RAND_data, 'accuracy')"
   ]
  },
  {
   "cell_type": "code",
   "execution_count": null,
   "metadata": {},
   "outputs": [],
   "source": [
    "# plot the average loss over time, including the standard deviation\n",
    "# ref: https://stackoverflow.com/questions/70351809/python-calculate-confidence-interval-for-rolling-average-of-dataframe-entries\n",
    "\n",
    "WS = 10\n",
    "Z = 1.96\n",
    "\n",
    "x_range = np.array([i for i in range(N_STEPS)])\n",
    "x_range = 40 * x_range\n",
    "\n",
    "avg_accuracy_MCD = pd.DataFrame(avg_accuracy_MCD)\n",
    "avg_accuracy_ENS = pd.DataFrame(avg_accuracy_ENS)\n",
    "avg_accuracy_MCC = pd.DataFrame(avg_accuracy_MCC)\n",
    "avg_accuracy_RAND = pd.DataFrame(avg_accuracy_RAND)\n",
    "\n",
    "movMeanMCD = avg_accuracy_MCD.rolling(window=WS, center=True, min_periods=1).mean().values.ravel()\n",
    "movStdMCD = avg_accuracy_MCD.rolling(window=WS, center=True, min_periods=1).std().values.ravel()\n",
    "confIntMCD = Z * avg_accuracy_MCD / np.sqrt(WS)\n",
    "\n",
    "movMeanENS = avg_accuracy_ENS.rolling(window=WS, center=True, min_periods=1).mean().values.ravel()\n",
    "movStdENS = avg_accuracy_ENS.rolling(window=WS, center=True, min_periods=1).std().values.ravel()\n",
    "confIntENS = Z * avg_accuracy_ENS / np.sqrt(WS)\n",
    "\n",
    "movMeanMCC = avg_accuracy_MCC.rolling(window=WS, center=True, min_periods=1).mean().values.ravel()\n",
    "movStdMCC = avg_accuracy_MCC.rolling(window=WS, center=True, min_periods=1).std().values.ravel()\n",
    "confIntMCC = Z * avg_accuracy_MCC / np.sqrt(WS)\n",
    "\n",
    "movMeanRAND = avg_accuracy_RAND.rolling(window=WS, center=True, min_periods=1).mean().values.ravel()\n",
    "movStdRAND = avg_accuracy_RAND.rolling(window=WS, center=True, min_periods=1).std().values.ravel()\n",
    "confIntRAND = Z * avg_accuracy_RAND / np.sqrt(WS)\n",
    "\n",
    "\n",
    "plt.figure(figsize=(12,5))\n",
    "plt.plot(movMeanMCD, label='MCDropout', color='y')\n",
    "plt.fill_between(x_range, movMeanMCD - confIntMCD, movMeanMCD + confIntMCD,\n",
    "                 color='y', alpha=.1, label='MCD 95%')\n",
    "\n",
    "plt.plot(movMeanENS, label='ENS', color='r')\n",
    "plt.fill_between(x_range, movMeanENS - confIntENS, movMeanENS + confIntENS,\n",
    "                 color='r', alpha=.1, label='ENS 95%')\n",
    "\n",
    "plt.plot(movMeanMCC, label='MCC', color='b')\n",
    "plt.fill_between(x_range, movMeanMCC - confIntMCC, movMeanMCC + confIntMCC,\n",
    "                 color='b', alpha=.1, label='MCC 95%')\n",
    "\n",
    "plt.plot(movMeanRAND, label='RAND', color='g')\n",
    "plt.fill_between(x_range, movMeanRAND - confIntRAND, movMeanRAND + confIntRAND,\n",
    "                 color='g', alpha=.1, label='RAND 95%')\n",
    "\n",
    "plt.title('Average Accuracy over time')\n",
    "plt.ylabel('Average Accuracy')\n",
    "plt.xlabel('Training Set Size')\n",
    "plt.legend()\n",
    "plt.show()"
   ]
  }
 ],
 "metadata": {
  "kernelspec": {
   "display_name": "base",
   "language": "python",
   "name": "python3"
  },
  "language_info": {
   "codemirror_mode": {
    "name": "ipython",
    "version": 3
   },
   "file_extension": ".py",
   "mimetype": "text/x-python",
   "name": "python",
   "nbconvert_exporter": "python",
   "pygments_lexer": "ipython3",
   "version": "3.11.5"
  }
 },
 "nbformat": 4,
 "nbformat_minor": 2
}
